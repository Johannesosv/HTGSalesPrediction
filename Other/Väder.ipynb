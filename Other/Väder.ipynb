{
 "cells": [
  {
   "cell_type": "code",
   "execution_count": 43,
   "metadata": {},
   "outputs": [],
   "source": [
    "import requests\n",
    "import pandas as pd\n",
    "import datetime\n"
   ]
  },
  {
   "cell_type": "code",
   "execution_count": 44,
   "metadata": {},
   "outputs": [],
   "source": [
    "def get_value_and_datetime(url):\n",
    "    r=requests.get(url)\n",
    "    data = r.json()\n",
    "    data_value_list = data[\"value\"]\n",
    "    df_raw = pd.DataFrame(data_value_list)\n",
    "    df_raw[\"datetime\"]=df_raw[\"date\"].apply(transform_milli_to_datetime)\n",
    "    return df_raw[[\"datetime\",\"value\"]]\n",
    "\n",
    "def get_value_and_date(url):\n",
    "    r=requests.get(url)\n",
    "    data = r.json()\n",
    "    data_value_list = data[\"value\"]\n",
    "    df_raw = pd.DataFrame(data_value_list)\n",
    "    df_raw[\"date\"]=df_raw[\"ref\"]\n",
    "    return df_raw[[\"date\",\"value\"]]\n",
    "\n",
    "\n",
    "def transform_milli_to_datetime(milli):\n",
    "    return datetime.datetime.fromtimestamp(milli/1000)"
   ]
  },
  {
   "cell_type": "code",
   "execution_count": 45,
   "metadata": {},
   "outputs": [],
   "source": [
    "#create period variable\n",
    "period = \"latest-months\"\n",
    "\n",
    "url_temp    = \"https://opendata-download-metobs.smhi.se/api/version/1.0/parameter/1/station/161910/period/\"+period+\"/data.json\"\n",
    "url_vind    = \"https://opendata-download-metobs.smhi.se/api/version/1.0/parameter/4/station/161910/period/\"+period+\"/data.json\"\n",
    "url_neder   = \"https://opendata-download-metobs.smhi.se/api/version/1.0/parameter/5/station/161910/period/\"+period+\"/data.json\"\n",
    "url_sikt     = \"https://opendata-download-metobs.smhi.se/api/version/1.0/parameter/12/station/161910/period/\"+period+\"/data.json\"\n",
    "\n",
    "# 1\tLufttemperatur\tmomentanvärde, 1 gång/tim\n",
    "# 4\tVindhastighet\tmedelvärde 10 min, 1 gång/tim\n",
    "# 10\tSolskenstid\tsumma 1 timme, 1 gång/tim\n",
    "# 12\tSikt\tmomentanvärde, 1 gång/tim"
   ]
  },
  {
   "cell_type": "code",
   "execution_count": 46,
   "metadata": {},
   "outputs": [],
   "source": [
    "df_temp = get_value_and_datetime(url_temp)\n",
    "df_vind = get_value_and_datetime(url_vind)\n",
    "df_sikt = get_value_and_datetime(url_sikt)\n",
    "df_neder = get_value_and_date(url_neder)\n",
    "\n",
    "df_temp.rename(columns = {'value':'temperatur'}, inplace = True)\n",
    "df_vind.rename(columns = {'value':'vindhastighet'}, inplace = True)\n",
    "df_sikt.rename(columns = {'value':'sikt'}, inplace = True)\n",
    "df_neder.rename(columns = {'value':'nederbörd'}, inplace = True)\n",
    "\n",
    "pd_comb = pd.merge(df_temp, df_vind, how=\"outer\", on=\"datetime\")\n",
    "pd_comb = pd.merge(pd_comb, df_sikt, how=\"outer\", on=\"datetime\")\n",
    "\n",
    "pd_comb.rename(columns = {'datetime':'ObsDateTime'}, inplace = True)\n",
    "df_neder.rename(columns = {'date':'ObsDate'}, inplace = True)\n",
    "\n",
    "\n",
    "#insert period as column\n",
    "pd_comb[\"period\"]=period\n",
    "df_neder[\"period\"]=period\n",
    "\n",
    "#insert current time as column\n",
    "pd_comb[\"ReadInTime\"]=datetime.datetime.now()\n",
    "df_neder[\"ReadInTime\"]=datetime.datetime.now()\n"
   ]
  },
  {
   "cell_type": "code",
   "execution_count": 47,
   "metadata": {},
   "outputs": [
    {
     "data": {
      "text/plain": [
       "128"
      ]
     },
     "execution_count": 47,
     "metadata": {},
     "output_type": "execute_result"
    }
   ],
   "source": [
    "#read pd_comb into sql server database\n",
    "from sqlalchemy import create_engine\n",
    "engine = create_engine('mssql+pyodbc://localhost/SMHI?driver=SQL+Server+Native+Client+11.0')\n",
    "pd_comb.to_sql('stg_Väder_DateTime', engine, if_exists=\"replace\", index=False)\n",
    "df_neder.to_sql('stg_Väder_Date', engine, if_exists='replace', index=False)\n"
   ]
  },
  {
   "cell_type": "code",
   "execution_count": 51,
   "metadata": {},
   "outputs": [],
   "source": [
    "#run proc in sql server\n",
    "import pyodbc\n",
    "conn = pyodbc.connect('Driver={SQL Server};'\n",
    "                        'Server=localhost;'\n",
    "                        'Database=SMHI;'\n",
    "                        'Trusted_Connection=yes;')\n",
    "\n",
    "cursor = conn.cursor()\n",
    "cursor.execute('Clean_Väder_DateTime')\n",
    "cursor.execute('Clean_Väder_Date')\n",
    "conn.commit()\n",
    "cursor.close()\n",
    "conn.close()\n"
   ]
  }
 ],
 "metadata": {
  "kernelspec": {
   "display_name": "Python 3",
   "language": "python",
   "name": "python3"
  },
  "language_info": {
   "codemirror_mode": {
    "name": "ipython",
    "version": 3
   },
   "file_extension": ".py",
   "mimetype": "text/x-python",
   "name": "python",
   "nbconvert_exporter": "python",
   "pygments_lexer": "ipython3",
   "version": "3.8.1"
  }
 },
 "nbformat": 4,
 "nbformat_minor": 4
}
